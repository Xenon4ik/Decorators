{
  "cells": [
    {
      "cell_type": "markdown",
      "metadata": {
        "id": "QY4qPJPpgyIS"
      },
      "source": [
        "# Домашнее задание: декораторы"
      ]
    },
    {
      "cell_type": "markdown",
      "metadata": {
        "id": "Chacc6YchldZ"
      },
      "source": [
        "## Импорт библиотек, установка констант"
      ]
    },
    {
      "cell_type": "code",
      "execution_count": 45,
      "metadata": {
        "id": "w8iKrWvwhrFd"
      },
      "outputs": [],
      "source": [
        "import requests\n",
        "import time\n",
        "import re\n",
        "\n",
        "from random import randint"
      ]
    },
    {
      "cell_type": "code",
      "execution_count": 46,
      "metadata": {
        "id": "-LRkS0fSi8Np"
      },
      "outputs": [],
      "source": [
        "BOOK_PATH = 'https://www.gutenberg.org/files/2638/2638-0.txt'"
      ]
    },
    {
      "cell_type": "markdown",
      "metadata": {
        "id": "kARfL8ifg4MH"
      },
      "source": [
        "## Задание 1"
      ]
    },
    {
      "cell_type": "code",
      "execution_count": 47,
      "metadata": {
        "id": "hNHNWPhngrUl"
      },
      "outputs": [],
      "source": [
        "import functools\n",
        "import time\n",
        "\n",
        "def benchmark(func):\n",
        "    \"\"\"\n",
        "    Декоратор, выводящий время, которое заняло выполнение декорируемой функции\n",
        "    \"\"\"\n",
        "    @functools.wraps(func)\n",
        "    def wrapper(*args, **kwargs):\n",
        "      start_time = time.perf_counter()\n",
        "      result = func(*args, **kwargs)\n",
        "      end_time = time.perf_counter()\n",
        "      print(f'Время выполнения функции {func.__name__}: {end_time - start_time:.10f}')\n",
        "      return result\n",
        "    return wrapper"
      ]
    },
    {
      "cell_type": "markdown",
      "metadata": {
        "id": "tGlbUKjihL5n"
      },
      "source": [
        "## Задание 2"
      ]
    },
    {
      "cell_type": "code",
      "execution_count": 48,
      "metadata": {
        "id": "wugOZDLqhNe-"
      },
      "outputs": [],
      "source": [
        "def logging(func):\n",
        "    \"\"\"\n",
        "    Декоратор, который выводит параметры с которыми была вызвана функция\n",
        "    \"\"\"\n",
        "    def wrapper(*args, **kwargs):\n",
        "        result = func(*args, **kwargs)\n",
        "        args_str = ', '.join(repr(arg) for arg in args)\n",
        "        print(f'Функция вызвана с параметрами:\\n({args_str},), {kwargs}')\n",
        "        return result\n",
        "\n",
        "    return wrapper"
      ]
    },
    {
      "cell_type": "markdown",
      "metadata": {
        "id": "Sq1tv5fshTfv"
      },
      "source": [
        "## Задание 3"
      ]
    },
    {
      "cell_type": "code",
      "execution_count": 49,
      "metadata": {
        "id": "9nyvuxXkhVeb"
      },
      "outputs": [],
      "source": [
        "import functools\n",
        "\n",
        "def counter(func, count=[0]):\n",
        "    \"\"\"\n",
        "    Декоратор, считающий и выводящий количество вызовов декорируемой функции\n",
        "    \"\"\"\n",
        "    @functools.wraps(func)\n",
        "    def wrapper(*args, **kwargs):\n",
        "      count[0] += 1\n",
        "      print(f'Функция была вызвана: {count[0]} раз')\n",
        "      return func(*args, **kwargs), count[0]\n",
        "\n",
        "    return wrapper"
      ]
    },
    {
      "cell_type": "markdown",
      "metadata": {
        "id": "uHn8Adfshz5q"
      },
      "source": [
        "## Задание 4"
      ]
    },
    {
      "cell_type": "code",
      "execution_count": 50,
      "metadata": {
        "id": "R7uu6WtGifNX"
      },
      "outputs": [],
      "source": [
        "def memo(func):\n",
        "  \"\"\"\n",
        "  Декоратор, запоминающий результаты исполнения функции func, чьи аргументы args должны быть хешируемыми\n",
        "  \"\"\"\n",
        "  cache = {}\n",
        "\n",
        "  def fmemo(*args):\n",
        "    if args not in cache:\n",
        "        cache[args] = func(*args)\n",
        "    return cache[args]\n",
        "\n",
        "  fmemo.cache = cache\n",
        "  return fmemo\n"
      ]
    },
    {
      "cell_type": "markdown",
      "metadata": {
        "id": "Zn5UQCa_izxo"
      },
      "source": [
        "## Тестирование"
      ]
    },
    {
      "cell_type": "code",
      "execution_count": 51,
      "metadata": {
        "colab": {
          "base_uri": "https://localhost:8080/"
        },
        "id": "CHCJ64I8i2QB",
        "outputId": "e08846a9-c237-442b-cc9c-d74f9ed6be7d"
      },
      "outputs": [
        {
          "name": "stderr",
          "output_type": "stream",
          "text": [
            "<>:15: SyntaxWarning: invalid escape sequence '\\W'\n",
            "<>:15: SyntaxWarning: invalid escape sequence '\\W'\n",
            "C:\\Users\\User\\AppData\\Local\\Temp\\ipykernel_13144\\1859338631.py:15: SyntaxWarning: invalid escape sequence '\\W'\n",
            "  processed_book = re.sub('[\\W]+' , ' ', raw).lower()\n"
          ]
        },
        {
          "name": "stdout",
          "output_type": "stream",
          "text": [
            "Функция была вызвана: 1 раз\n",
            "Время выполнения функции word_count: 3.1459455000\n",
            "Функция вызвана с параметрами:\n",
            "('whole',), {}\n",
            "('Cлово whole встречается 176 раз', 1)\n"
          ]
        }
      ],
      "source": [
        "import re\n",
        "\n",
        "@counter\n",
        "@logging\n",
        "@benchmark\n",
        "def word_count(word, url=BOOK_PATH):\n",
        "    \"\"\"\n",
        "    Функция для посчета указанного слова на html-странице\n",
        "    \"\"\"\n",
        "\n",
        "    # отправляем запрос в библиотеку Gutenberg и забираем текст\n",
        "    raw = requests.get(url).text\n",
        "\n",
        "    # заменяем в тексте все небуквенные символы на пробелы\n",
        "    processed_book = re.sub('[\\W]+' , ' ', raw).lower()\n",
        "\n",
        "    # считаем\n",
        "    cnt = len(re.findall(word.lower(), processed_book))\n",
        "\n",
        "    return f\"Cлово {word} встречается {cnt} раз\"\n",
        "\n",
        "print(word_count('whole'))"
      ]
    },
    {
      "cell_type": "code",
      "execution_count": 52,
      "metadata": {
        "id": "ZE4Rfn-hh3k3"
      },
      "outputs": [],
      "source": [
        "def fib(n):\n",
        "    if n < 2:\n",
        "        return n\n",
        "    return fib(n-2) + fib(n-1)"
      ]
    },
    {
      "cell_type": "code",
      "execution_count": 53,
      "metadata": {
        "id": "Io94NyjiiXG4"
      },
      "outputs": [
        {
          "name": "stdout",
          "output_type": "stream",
          "text": [
            "Время выполнения без декоратора 4.154151201248169\n"
          ]
        }
      ],
      "source": [
        "# измеряем время выполнения\n",
        "start = time.time()\n",
        "fib(37)\n",
        "end = time.time()\n",
        "print(f'Время выполнения без декоратора {end - start}')"
      ]
    },
    {
      "cell_type": "code",
      "execution_count": 54,
      "metadata": {
        "id": "W9B3e-t9iTUj"
      },
      "outputs": [],
      "source": [
        "@memo\n",
        "def fib(n):\n",
        "    if n < 2:\n",
        "        return n\n",
        "    return fib(n-2) + fib(n-1)"
      ]
    },
    {
      "cell_type": "code",
      "execution_count": 55,
      "metadata": {
        "id": "Sk6_4KQaidkh"
      },
      "outputs": [
        {
          "name": "stdout",
          "output_type": "stream",
          "text": [
            "Время выполнения с декоратором 0.0\n"
          ]
        }
      ],
      "source": [
        "# измеряем время выполнения\n",
        "start = time.time()\n",
        "fib(37)\n",
        "end = time.time()\n",
        "print(f'Время выполнения с декоратором {end - start}')"
      ]
    }
  ],
  "metadata": {
    "colab": {
      "provenance": []
    },
    "kernelspec": {
      "display_name": "Python 3",
      "name": "python3"
    },
    "language_info": {
      "codemirror_mode": {
        "name": "ipython",
        "version": 3
      },
      "file_extension": ".py",
      "mimetype": "text/x-python",
      "name": "python",
      "nbconvert_exporter": "python",
      "pygments_lexer": "ipython3",
      "version": "3.12.0"
    }
  },
  "nbformat": 4,
  "nbformat_minor": 0
}
